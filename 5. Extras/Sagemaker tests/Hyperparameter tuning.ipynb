{
 "cells": [
  {
   "cell_type": "code",
   "execution_count": null,
   "metadata": {},
   "outputs": [],
   "source": [
    "from smexperiments.tracker import Tracker\n",
    "\n",
    "# Given we have defined sm as a boto3 session (\n",
    "## ex: sm = boto3.Session().client(service_name='sagemaker', region_name=region)\n",
    "## )\n",
    "\n",
    "tracker_optimize = Tracker.create(\n",
    "    display_name = 'optimize-1', sagemaker_boto_client = sm\n",
    "    )\n",
    "\n",
    "optimize_trial_component_name = tracker_optimize.trial_component.trial_component_name\n",
    "\n",
    "trial.add_trial_component(tracker_optimize.trial_component)"
   ]
  }
 ],
 "metadata": {
  "kernelspec": {
   "display_name": ".venv",
   "language": "python",
   "name": "python3"
  },
  "language_info": {
   "name": "python",
   "version": "3.11.6"
  }
 },
 "nbformat": 4,
 "nbformat_minor": 2
}
