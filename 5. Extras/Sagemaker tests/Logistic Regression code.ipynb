{
 "cells": [
  {
   "cell_type": "code",
   "execution_count": null,
   "metadata": {},
   "outputs": [],
   "source": [
    "import boto3\n",
    "import re "
   ]
  },
  {
   "cell_type": "code",
   "execution_count": null,
   "metadata": {},
   "outputs": [],
   "source": [
    "bucket_name = \"ec2-east-sagemaker-demo\" \n",
    "\n",
    "train_file = r\"Logistic/Train/train.csv\"\n",
    "test_file = r\"Logistic/Test/test.csv\"\n",
    "val_file = r\"Logistic/Val/val.csv\"\n",
    "\n",
    "model_folder = r\"Logistic/model/\""
   ]
  },
  {
   "cell_type": "code",
   "execution_count": null,
   "metadata": {},
   "outputs": [],
   "source": [
    "s3model_output = r\"s3://{0}/{1}\".format(bucket_name, model_folder) \n",
    "\n",
    "s3_train = r\"s3://{0}/{1}\".format(bucket_name, train_file) \n",
    "\n",
    "s3_test = r\"s3://{0}/{1}\".format(bucket_name, test_file) \n",
    "\n",
    "s3_val = r\"s3://{0}/{1}\".format(bucket_name, val_file) "
   ]
  },
  {
   "cell_type": "code",
   "execution_count": null,
   "metadata": {},
   "outputs": [],
   "source": [
    "s3model_output"
   ]
  },
  {
   "cell_type": "code",
   "execution_count": null,
   "metadata": {},
   "outputs": [],
   "source": [
    "with open(\"train.csv\", \"rb\") as f: \n",
    "\n",
    "boto3.Session().resource(\"s3\").Bucket(bucket_name).Object(train_file).upload_fileobj(f) \n",
    "\n",
    " \n",
    "\n",
    "with open(\"test.csv\", \"rb\") as f: \n",
    "\n",
    "boto3.Session().resource(\"s3\").Bucket(bucket_name).Object(test_file).upload_fileobj(f) "
   ]
  },
  {
   "cell_type": "markdown",
   "metadata": {},
   "source": [
    "# Build and Train Model in Sagemaker "
   ]
  },
  {
   "cell_type": "code",
   "execution_count": null,
   "metadata": {},
   "outputs": [],
   "source": [
    "import sagemaker \n",
    "\n",
    "from sagemaker import get_execution_role"
   ]
  },
  {
   "cell_type": "code",
   "execution_count": null,
   "metadata": {},
   "outputs": [],
   "source": [
    "sagemakerSess = sagemaker.Session() \n",
    "\n",
    "role = get_execution_role()"
   ]
  },
  {
   "cell_type": "code",
   "execution_count": null,
   "metadata": {},
   "outputs": [],
   "source": [
    "sagemakerSess.boto_region_name "
   ]
  },
  {
   "cell_type": "code",
   "execution_count": null,
   "metadata": {},
   "outputs": [],
   "source": [
    "ECRdockercontainer = sagemaker.amazon.amazon_estimator.get_image_uri(\n",
    "    sagemakerSess.boto_region_name, \"linear-learner\", \"latest\"\n",
    "    )"
   ]
  },
  {
   "cell_type": "code",
   "execution_count": null,
   "metadata": {},
   "outputs": [],
   "source": [
    "logistic_model = sagemaker.estimator.Estimator(\n",
    "    image_name = ECRdockercontainer, \n",
    "    role = role, \n",
    "    train_instance_count = 1, \n",
    "    train_instance_type = \"m3.t1.medium\", \n",
    "    output_path = s3model_output, \n",
    "    sagemaker_session = sagemakerSess, \n",
    "    base_job_name = \"Logistic-Demo-v1\"\n",
    "    )"
   ]
  },
  {
   "cell_type": "code",
   "execution_count": null,
   "metadata": {},
   "outputs": [],
   "source": [
    "logistic_model.set_hyperparameters(\n",
    "    predictor_type = \"binary_classifier\", \n",
    "    mini_batch_size = 100\n",
    "    ) \n",
    "logistic_model.hyperparameters()"
   ]
  },
  {
   "cell_type": "code",
   "execution_count": null,
   "metadata": {},
   "outputs": [],
   "source": [
    "train_config = sagemaker.session.s3_imput(s3_data = s3_train, contenct_type = \"text/csv\")"
   ]
  },
  {
   "cell_type": "code",
   "execution_count": null,
   "metadata": {},
   "outputs": [],
   "source": [
    "logistic_model.fit({\"train\": train_config}) "
   ]
  }
 ],
 "metadata": {
  "kernelspec": {
   "display_name": ".venv",
   "language": "python",
   "name": "python3"
  },
  "language_info": {
   "name": "python",
   "version": "3.11.6"
  }
 },
 "nbformat": 4,
 "nbformat_minor": 2
}
